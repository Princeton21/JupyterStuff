{
 "cells": [
  {
   "cell_type": "code",
   "execution_count": 1,
   "id": "f7bef86a-d487-43c8-85cd-38f35023dfe9",
   "metadata": {
    "tags": []
   },
   "outputs": [],
   "source": [
    "import nltk\n",
    "from nltk import word_tokenize\n",
    "\n",
    "text=\"My name is Princeton and I am giving a practical examination and going to perform a set of activities\""
   ]
  },
  {
   "cell_type": "code",
   "execution_count": 3,
   "id": "575ae5a7-67c0-469e-b321-a7b85b342cfb",
   "metadata": {
    "tags": []
   },
   "outputs": [
    {
     "name": "stdout",
     "output_type": "stream",
     "text": [
      "my name is princeton and i am giving a practical examination and going to perform a set of activities\n"
     ]
    }
   ],
   "source": [
    "text = text.lower()\n",
    "print(text)"
   ]
  },
  {
   "cell_type": "code",
   "execution_count": 14,
   "id": "67a437fc-5228-4bf1-96b6-25ee9805ef11",
   "metadata": {
    "tags": []
   },
   "outputs": [
    {
     "name": "stdout",
     "output_type": "stream",
     "text": [
      "['my', 'name', 'is', 'princeton', 'and', 'i', 'am', 'giving', 'a', 'practical', 'examination', 'and', 'going', 'to', 'perform', 'a', 'set', 'of', 'activities']\n"
     ]
    }
   ],
   "source": [
    "print(word_tokenize(text))"
   ]
  },
  {
   "cell_type": "code",
   "execution_count": 16,
   "id": "9077eb06-630d-49a6-af5e-f737d7a0d9ea",
   "metadata": {
    "tags": []
   },
   "outputs": [
    {
     "name": "stdout",
     "output_type": "stream",
     "text": [
      "name princeton giving practical examination going perform set activities\n"
     ]
    }
   ],
   "source": [
    "from nltk.corpus import stopwords\n",
    "stop_word = set(stopwords.words('english'))\n",
    "words = word_tokenize(text)\n",
    "\n",
    "filtered_words = [word for word in words if word.lower() not in stop_word]\n",
    "\n",
    "filtered_text = \" \".join(filtered_words)\n",
    "\n",
    "print(filtered_text)"
   ]
  },
  {
   "cell_type": "code",
   "execution_count": 19,
   "id": "96f46ca7-cc1b-4e64-8a45-25db2f237c49",
   "metadata": {
    "tags": []
   },
   "outputs": [
    {
     "name": "stdout",
     "output_type": "stream",
     "text": [
      "my name is princeton and i am giving a practical examination and going to perform a set of act\n"
     ]
    }
   ],
   "source": [
    "from nltk.stem import PorterStemmer\n",
    "porter = PorterStemmer()\n",
    "\n",
    "print(porter.stem(text))"
   ]
  },
  {
   "cell_type": "code",
   "execution_count": 25,
   "id": "3341ef6b-2a25-4ef2-b430-6d9622fd2b3c",
   "metadata": {
    "tags": []
   },
   "outputs": [
    {
     "name": "stdout",
     "output_type": "stream",
     "text": [
      "['name', 'princeton', 'give', 'practical', 'examination', 'go', 'perform', 'set', 'activities']\n"
     ]
    }
   ],
   "source": [
    "import nltk\n",
    "from nltk.stem import WordNetLemmatizer\n",
    "\n",
    "lemmatizer = WordNetLemmatizer()\n",
    "\n",
    "# text = nltk.word_tokenize(text)\n",
    "\n",
    "filtered_words = word_tokenize(filtered_text)\n",
    "\n",
    "lemmatized_words = [lemmatizer.lemmatize(word,pos = 'v') for word in filtered_words]\n",
    "\n",
    "filtered_text = \" \".join(filtered_words)\n",
    "\n",
    "print(lemmatized_words)"
   ]
  },
  {
   "cell_type": "code",
   "execution_count": 30,
   "id": "09bfbf18-b87c-467a-824c-92c85bf0c300",
   "metadata": {
    "tags": []
   },
   "outputs": [],
   "source": [
    "import re\n",
    "import string\n",
    "\n",
    "d0 = \"This is document One\"\n",
    "\n",
    "d1 = \"this is document two\"\n",
    "\n",
    "d2 = \"This is document Three\"\n",
    "\n",
    "string = [d0,d1,d2]"
   ]
  },
  {
   "cell_type": "code",
   "execution_count": 33,
   "id": "3e84c158-c2a2-46bd-b635-e1c680150a2d",
   "metadata": {
    "tags": []
   },
   "outputs": [
    {
     "name": "stdout",
     "output_type": "stream",
     "text": [
      "  (0, 2)\t0.6990303272568005\n",
      "  (0, 0)\t0.4128585720620119\n",
      "  (0, 1)\t0.4128585720620119\n",
      "  (0, 3)\t0.4128585720620119\n",
      "  (1, 5)\t0.6990303272568005\n",
      "  (1, 0)\t0.4128585720620119\n",
      "  (1, 1)\t0.4128585720620119\n",
      "  (1, 3)\t0.4128585720620119\n",
      "  (2, 4)\t0.6990303272568005\n",
      "  (2, 0)\t0.4128585720620119\n",
      "  (2, 1)\t0.4128585720620119\n",
      "  (2, 3)\t0.4128585720620119\n"
     ]
    }
   ],
   "source": [
    "from sklearn.feature_extraction.text import TfidfVectorizer\n",
    "\n",
    "tfidf = TfidfVectorizer()\n",
    "\n",
    "result = tfidf.fit_transform(string)\n",
    "print(result)"
   ]
  },
  {
   "cell_type": "code",
   "execution_count": 35,
   "id": "ee38901a-c938-4a75-bc90-da6cc0c8b792",
   "metadata": {
    "tags": []
   },
   "outputs": [
    {
     "name": "stdout",
     "output_type": "stream",
     "text": [
      "\n",
      " Word indexes : \n",
      "{'this': 3, 'is': 1, 'document': 0, 'one': 2, 'two': 5, 'three': 4}\n"
     ]
    }
   ],
   "source": [
    "print(\"\\n Word indexes : \")\n",
    "\n",
    "print(tfidf.vocabulary_)"
   ]
  },
  {
   "cell_type": "code",
   "execution_count": 39,
   "id": "6716dc82-58f5-40d5-a8b7-638a582f993c",
   "metadata": {
    "tags": []
   },
   "outputs": [
    {
     "name": "stdout",
     "output_type": "stream",
     "text": [
      "\n",
      " tf-idf value : \n",
      "  (0, 2)\t0.6990303272568005\n",
      "  (0, 0)\t0.4128585720620119\n",
      "  (0, 1)\t0.4128585720620119\n",
      "  (0, 3)\t0.4128585720620119\n",
      "  (1, 5)\t0.6990303272568005\n",
      "  (1, 0)\t0.4128585720620119\n",
      "  (1, 1)\t0.4128585720620119\n",
      "  (1, 3)\t0.4128585720620119\n",
      "  (2, 4)\t0.6990303272568005\n",
      "  (2, 0)\t0.4128585720620119\n",
      "  (2, 1)\t0.4128585720620119\n",
      "  (2, 3)\t0.4128585720620119\n"
     ]
    }
   ],
   "source": [
    "print(\"\\n tf-idf value : \")\n",
    "print(result)"
   ]
  },
  {
   "cell_type": "code",
   "execution_count": 40,
   "id": "e4013c03-dc12-46e4-9ffe-f1da8d201333",
   "metadata": {
    "tags": []
   },
   "outputs": [
    {
     "name": "stdout",
     "output_type": "stream",
     "text": [
      "\n",
      "tf-idf values in matrix form:\n",
      "[[0.41285857 0.41285857 0.69903033 0.41285857 0.         0.        ]\n",
      " [0.41285857 0.41285857 0.         0.41285857 0.         0.69903033]\n",
      " [0.41285857 0.41285857 0.         0.41285857 0.69903033 0.        ]]\n"
     ]
    }
   ],
   "source": [
    "print('\\ntf-idf values in matrix form:')\n",
    "print(result.toarray())"
   ]
  },
  {
   "cell_type": "code",
   "execution_count": null,
   "id": "e8b4b144-2dbc-4f55-b355-e486176433f0",
   "metadata": {},
   "outputs": [],
   "source": []
  }
 ],
 "metadata": {
  "kernelspec": {
   "display_name": "Python 3 (ipykernel)",
   "language": "python",
   "name": "python3"
  },
  "language_info": {
   "codemirror_mode": {
    "name": "ipython",
    "version": 3
   },
   "file_extension": ".py",
   "mimetype": "text/x-python",
   "name": "python",
   "nbconvert_exporter": "python",
   "pygments_lexer": "ipython3",
   "version": "3.11.3"
  }
 },
 "nbformat": 4,
 "nbformat_minor": 5
}
